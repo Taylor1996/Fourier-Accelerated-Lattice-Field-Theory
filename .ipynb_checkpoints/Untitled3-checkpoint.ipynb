{
 "cells": [
  {
   "cell_type": "code",
   "execution_count": null,
   "metadata": {},
   "outputs": [],
   "source": [
    "import re\n",
    "import matplotlib.pyplot as plt\n",
    "import numpy as np\n",
    "import itertools"
   ]
  },
  {
   "cell_type": "code",
   "execution_count": null,
   "metadata": {},
   "outputs": [],
   "source": [
    "delta_H_infile = open(\"delta_H_hmc_output.txt\",\"r\")\n",
    "for line in delta_H_infile:\n",
    "    tokensH = line.split()\n",
    "\n",
    "\n",
    "delta_H_list = [float(del_H) for del_H in tokensH]\n",
    "delta_H_list\n",
    "np.mean(np.exp(-np.array(delta_H_list)))"
   ]
  },
  {
   "cell_type": "code",
   "execution_count": null,
   "metadata": {},
   "outputs": [],
   "source": [
    "\n",
    "infile = open(\"hmc_output.txt\", \"r\")\n",
    "s = infile.read()\n",
    "tokens = s.split('[')[1:]\n",
    "\n",
    "# we discard tokens[0]\n",
    "for i,path in enumerate(tokens):\n",
    "    new_path = re.sub('\\]|\\n', '', path)\n",
    "    tokens[i] = new_path\n",
    "#x_data = [path for path in tokens[1:]]\n",
    "pathList = [[0]*len(tokens[0])]*len(tokens)\n",
    "for i in range(len(tokens)):\n",
    "    pathList[i] = [float(x_i) for x_i in tokens[i].split()]\n",
    "    \n",
    "# discard first 100 steps as thermalization\n",
    "pathList = pathList[100:]\n",
    "\n",
    "N_tau = len(pathList[0])\n",
    "print(len(pathList))"
   ]
  }
 ],
 "metadata": {
  "kernelspec": {
   "display_name": "Python 3",
   "language": "python",
   "name": "python3"
  },
  "language_info": {
   "codemirror_mode": {
    "name": "ipython",
    "version": 3
   },
   "file_extension": ".py",
   "mimetype": "text/x-python",
   "name": "python",
   "nbconvert_exporter": "python",
   "pygments_lexer": "ipython3",
   "version": "3.7.3"
  }
 },
 "nbformat": 4,
 "nbformat_minor": 2
}
